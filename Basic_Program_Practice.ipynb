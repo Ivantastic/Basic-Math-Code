{
  "nbformat": 4,
  "nbformat_minor": 0,
  "metadata": {
    "colab": {
      "provenance": []
    },
    "kernelspec": {
      "name": "python3",
      "display_name": "Python 3"
    },
    "language_info": {
      "name": "python"
    }
  },
  "cells": [
    {
      "cell_type": "code",
      "execution_count": null,
      "metadata": {
        "colab": {
          "base_uri": "https://localhost:8080/"
        },
        "id": "4p48ea7soexC",
        "outputId": "0f5b33fb-b852-4a57-fb0c-95e57be3da25"
      },
      "outputs": [
        {
          "output_type": "stream",
          "name": "stdout",
          "text": [
            "Pendapatan dari menjual sepatu:  3150000\n"
          ]
        }
      ],
      "source": [
        "#Soal 1\n",
        "JumlahSepatu = 7\n",
        "HargaSepatu = 450000\n",
        "Pendapatan = JumlahSepatu*HargaSepatu\n",
        "print('Pendapatan dari menjual sepatu: ', Pendapatan)"
      ]
    },
    {
      "cell_type": "code",
      "source": [
        "#Soal 2\n",
        "import math\n",
        "\n",
        "nilai1 = float(input('masukkkan nilai: '))\n",
        "nilai2 = float(input('masukkkan nilai: '))\n",
        "nilai3 = float(input('masukkkan nilai: '))\n",
        "total_nilai = nilai1+nilai2+nilai3\n",
        "rata_rata = total_nilai/3\n",
        "bulat = math.floor(rata_rata)\n",
        "print('nilai rata-rata anda adalah ', bulat)"
      ],
      "metadata": {
        "colab": {
          "base_uri": "https://localhost:8080/"
        },
        "id": "VsV1T36jqdC4",
        "outputId": "07755d23-520e-4247-e965-c3e263326ff6"
      },
      "execution_count": null,
      "outputs": [
        {
          "output_type": "stream",
          "name": "stdout",
          "text": [
            "masukkkan nilai: 85\n",
            "masukkkan nilai: 90\n",
            "masukkkan nilai: 78\n",
            "nilai rata-rata anda adalah  84\n"
          ]
        }
      ]
    },
    {
      "cell_type": "code",
      "source": [
        "def bilangan_kompleks(a, b):\n",
        "  real = a.real*b.real-a.imag*b.imag\n",
        "  imag = a.real*b.imag+a.imag*b.real\n",
        "  return complex(real, imag)\n",
        "\n",
        "def main():\n",
        "  a = complex(3, 2)\n",
        "  b = complex(2, -1)\n",
        "  hasil = bilangan_kompleks(a, b)\n",
        "  print('hasil dari perkalian (3+2j)*(2-1j) adalah', hasil)\n",
        "\n",
        "if __name__== '__main__':\n",
        "  main()"
      ],
      "metadata": {
        "id": "MptTBAtduDre",
        "colab": {
          "base_uri": "https://localhost:8080/"
        },
        "outputId": "1fdbd9ab-9f41-49b1-e64e-196d93fefbaf"
      },
      "execution_count": null,
      "outputs": [
        {
          "output_type": "stream",
          "name": "stdout",
          "text": [
            "hasil dari perkalian (3+2j)*(2-1j) adalah (8+1j)\n"
          ]
        }
      ]
    },
    {
      "cell_type": "code",
      "source": [
        "#Soal 4\n",
        "def convert_biner(desimal):\n",
        "  biner=\"\"\n",
        "  while desimal > 0:\n",
        "    biner = str(desimal % 2) + biner\n",
        "    desimal //=2\n",
        "\n",
        "  return biner\n",
        "\n",
        "def main():\n",
        "  desimal = int(input(\"masukan bilangan desimal: \"))\n",
        "  biner = convert_biner(desimal)\n",
        "  print('Bilangan desimal 15 dalam sistem bilangan biner adalah ', biner)\n",
        "\n",
        "if __name__==\"__main__\":\n",
        "  main()"
      ],
      "metadata": {
        "colab": {
          "base_uri": "https://localhost:8080/"
        },
        "id": "eiKfSaqg5EhC",
        "outputId": "3d447444-b713-4006-c571-832961dfd5c0"
      },
      "execution_count": null,
      "outputs": [
        {
          "output_type": "stream",
          "name": "stdout",
          "text": [
            "masukan bilangan desimal: 17\n",
            "Bilangan desimal 15 dalam sistem bilangan biner adalah  10001\n"
          ]
        }
      ]
    }
  ]
}