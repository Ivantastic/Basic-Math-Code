{
  "nbformat": 4,
  "nbformat_minor": 0,
  "metadata": {
    "colab": {
      "provenance": []
    },
    "kernelspec": {
      "name": "python3",
      "display_name": "Python 3"
    },
    "language_info": {
      "name": "python"
    }
  },
  "cells": [
    {
      "cell_type": "code",
      "source": [
        "#Soal no.1\n",
        "def is_kelipatan(a, b, c):\n",
        "  return (a % b == 0 or b % a == 0 or c % a == 0 or a % c == 0 or\n",
        "          b % c == 0 or c % b == 0)\n",
        "\n",
        "print(is_kelipatan(10, 8, 2))\n",
        "print(is_kelipatan(11, 7, 2))"
      ],
      "metadata": {
        "colab": {
          "base_uri": "https://localhost:8080/"
        },
        "id": "7wl-JqXXVYay",
        "outputId": "61e981e5-7b4c-419f-fd09-04f2d5581076"
      },
      "execution_count": null,
      "outputs": [
        {
          "output_type": "stream",
          "name": "stdout",
          "text": [
            "True\n",
            "False\n"
          ]
        }
      ]
    },
    {
      "cell_type": "code",
      "source": [
        "#soal no.2\n",
        "is_even = lambda x: x % 2 == 0\n",
        "print(is_even(10))\n",
        "print(is_even(11))"
      ],
      "metadata": {
        "colab": {
          "base_uri": "https://localhost:8080/"
        },
        "id": "ahHorW-hULdw",
        "outputId": "ef8373e2-6297-42da-f496-3eb18efff328"
      },
      "execution_count": null,
      "outputs": [
        {
          "output_type": "stream",
          "name": "stdout",
          "text": [
            "True\n",
            "False\n"
          ]
        }
      ]
    },
    {
      "cell_type": "code",
      "source": [
        "#Soal no.3\n",
        "daftar_angka = [1, 2, 3, 4, 5, 6, 7, 8, 9, 10]\n",
        "\n",
        "angka_ganjil = [x for x in daftar_angka if x % 2 != 0]\n",
        "\n",
        "print(angka_ganjil)"
      ],
      "metadata": {
        "colab": {
          "base_uri": "https://localhost:8080/"
        },
        "id": "ZPndSBuzWuSQ",
        "outputId": "9bc09d4a-0505-457f-c6f1-4b2d57d3aa32"
      },
      "execution_count": null,
      "outputs": [
        {
          "output_type": "stream",
          "name": "stdout",
          "text": [
            "[1, 3, 5, 7, 9]\n"
          ]
        }
      ]
    },
    {
      "cell_type": "code",
      "source": [
        "#Soal no.4\n",
        "def is_adult(usia):\n",
        "  return usia >= 18\n",
        "\n",
        "print(is_adult(18))\n",
        "print(is_adult(17))"
      ],
      "metadata": {
        "colab": {
          "base_uri": "https://localhost:8080/"
        },
        "id": "RBzytHJBX_IR",
        "outputId": "63f69908-25e2-47b5-8846-782f24fb5bdf"
      },
      "execution_count": null,
      "outputs": [
        {
          "output_type": "stream",
          "name": "stdout",
          "text": [
            "True\n",
            "False\n"
          ]
        }
      ]
    },
    {
      "cell_type": "code",
      "source": [
        "#Soal no.5\n",
        "is_prime = lambda x: all(x % y != 0 for y in range(2, int(x ** 0.5) + 1))\n",
        "\n",
        "print(is_prime(2))\n",
        "print(is_prime(10))"
      ],
      "metadata": {
        "colab": {
          "base_uri": "https://localhost:8080/"
        },
        "id": "47hJewRgYmdc",
        "outputId": "c36f2205-7b98-4c28-df32-53a6b16ff671"
      },
      "execution_count": null,
      "outputs": [
        {
          "output_type": "stream",
          "name": "stdout",
          "text": [
            "True\n",
            "False\n"
          ]
        }
      ]
    },
    {
      "cell_type": "code",
      "source": [
        "#Soal no.6\n",
        "def is_positive_even(angka):\n",
        "  return angka >= 0 and angka % 2 == 0\n",
        "\n",
        "print(is_positive_even(2))\n",
        "print(is_positive_even(-2))\n",
        "print(is_positive_even(1))"
      ],
      "metadata": {
        "colab": {
          "base_uri": "https://localhost:8080/"
        },
        "id": "hgvG52MUZQgz",
        "outputId": "f18a22ff-43d9-4772-87ef-72f5033e7f19"
      },
      "execution_count": null,
      "outputs": [
        {
          "output_type": "stream",
          "name": "stdout",
          "text": [
            "True\n",
            "False\n",
            "False\n"
          ]
        }
      ]
    },
    {
      "cell_type": "code",
      "source": [
        "#Soal no.7\n",
        "angka = [1, 2, 3, 4, 5]\n",
        "angka_ganda = [x * 2 for x in angka]\n",
        "print(angka_ganda)"
      ],
      "metadata": {
        "colab": {
          "base_uri": "https://localhost:8080/"
        },
        "id": "WWJ27hbRZo4z",
        "outputId": "6d6295a2-aaeb-45b4-8fd4-e979f06153fe"
      },
      "execution_count": null,
      "outputs": [
        {
          "output_type": "stream",
          "name": "stdout",
          "text": [
            "[2, 4, 6, 8, 10]\n"
          ]
        }
      ]
    },
    {
      "cell_type": "code",
      "source": [
        "#Soal no.8\n",
        "def is_kelipatan5(angka):\n",
        "  return angka % 5 == 0\n",
        "\n",
        "print(is_kelipatan5(5))\n",
        "print(is_kelipatan5(6))\n",
        "print(is_kelipatan5(10))"
      ],
      "metadata": {
        "colab": {
          "base_uri": "https://localhost:8080/"
        },
        "id": "b_pE2JRFZxXS",
        "outputId": "4bbf2a62-154b-4094-f4ea-5ad2fd3481b7"
      },
      "execution_count": null,
      "outputs": [
        {
          "output_type": "stream",
          "name": "stdout",
          "text": [
            "True\n",
            "False\n",
            "True\n"
          ]
        }
      ]
    },
    {
      "cell_type": "code",
      "source": [
        "#Soal no.9\n",
        "def is_divisible_by_3_and_7(angka):\n",
        "  return angka % 3 == 0 and angka % 7 == 0\n",
        "\n",
        "print(is_divisible_by_3_and_7(21))\n",
        "print(is_divisible_by_3_and_7(22))\n",
        "print(is_divisible_by_3_and_7(210))"
      ],
      "metadata": {
        "colab": {
          "base_uri": "https://localhost:8080/"
        },
        "id": "rv8-Ysl4aFB3",
        "outputId": "c45d40eb-1189-4b27-cd77-12aab92ecb09"
      },
      "execution_count": null,
      "outputs": [
        {
          "output_type": "stream",
          "name": "stdout",
          "text": [
            "True\n",
            "False\n",
            "True\n"
          ]
        }
      ]
    },
    {
      "cell_type": "code",
      "source": [
        "#Soal no.10\n",
        "angka = [1, 2, 3, 4, 5]\n",
        "kuadrat = [x ** 2 for x in angka if x >= 0]\n",
        "print(kuadrat)"
      ],
      "metadata": {
        "colab": {
          "base_uri": "https://localhost:8080/"
        },
        "id": "BciJB6KfaR9L",
        "outputId": "74f09697-c5bd-408d-e2f0-82f2da4a1a1f"
      },
      "execution_count": null,
      "outputs": [
        {
          "output_type": "stream",
          "name": "stdout",
          "text": [
            "[1, 4, 9, 16, 25]\n"
          ]
        }
      ]
    }
  ]
}